{
 "cells": [
  {
   "cell_type": "code",
   "execution_count": 18,
   "metadata": {
    "tags": []
   },
   "outputs": [
    {
     "name": "stdout",
     "output_type": "stream",
     "text": [
      "The autoreload extension is already loaded. To reload it, use:\n",
      "  %reload_ext autoreload\n"
     ]
    }
   ],
   "source": [
    "%load_ext autoreload\n",
    "%autoreload 2"
   ]
  },
  {
   "cell_type": "code",
   "execution_count": 19,
   "metadata": {
    "tags": []
   },
   "outputs": [],
   "source": [
    "import os\n",
    "import random\n",
    "import numpy as np\n",
    "import matplotlib.pyplot as plt\n",
    "import scipy.stats as st\n",
    "import pandas as pd"
   ]
  },
  {
   "cell_type": "code",
   "execution_count": 20,
   "metadata": {
    "tags": []
   },
   "outputs": [],
   "source": [
    "import sys\n",
    "sys.path.append('./models') \n",
    "from gaussian import GP\n",
    "from gaussian import RBF\n",
    "from bandit import Bandit\n",
    "\n",
    "sys.path.append('./train_data') \n",
    "from train_func import TrueFunc"
   ]
  },
  {
   "cell_type": "code",
   "execution_count": 21,
   "metadata": {
    "tags": []
   },
   "outputs": [],
   "source": [
    "# func_sigma_list = [i/10 for i in range(1, 6,1)]\n",
    "# func_max_list  = [i/10 for i in range(2, 12,2)]\n",
    "\n",
    "# gp_noise_list   = [i/100 for i in range(5, 35, 5)]\n",
    "# rbf_alpha_list  = [i/100 for i in range(5, 35, 5)]\n",
    "# rbf_beta_list   = [i/100 for i in range(5, 35, 5)] "
   ]
  },
  {
   "cell_type": "code",
   "execution_count": 28,
   "metadata": {
    "tags": []
   },
   "outputs": [],
   "source": [
    "GP_ME = 0.5\n",
    "n_play = 100\n",
    "n_sample = 100\n",
    "\n",
    "func_sigma_list = [i/10 for i in range(1, 6,3)]\n",
    "func_max_list  = [i/10 for i in range(2, 12,6)]\n",
    "\n",
    "gp_noise_list   = [i/100 for i in range(5, 35, 20)]\n",
    "rbf_alpha_list  = [i/100 for i in range(5, 35, 20)]\n",
    "rbf_beta_list   = [i/100 for i in range(5, 35, 20)] "
   ]
  },
  {
   "cell_type": "code",
   "execution_count": 23,
   "metadata": {
    "tags": []
   },
   "outputs": [],
   "source": [
    "def get_max_seed(dir_path):\n",
    "    files = os.listdir(dir_path)\n",
    "    seed_files = [f for f in files if 'seed_' in f]\n",
    "    seed_numbers = [int(f.split('seed_')[1].split('.')[0]) for f in seed_files]\n",
    "    if not seed_numbers:\n",
    "        return 0\n",
    "    return  max(seed_numbers)"
   ]
  },
  {
   "cell_type": "code",
   "execution_count": 24,
   "metadata": {
    "tags": []
   },
   "outputs": [],
   "source": [
    "def play_bandit_gp_ts():\n",
    "    \n",
    "    dir_path = '../results/csv/gp_ts/'\n",
    "    seed = get_max_seed(dir_path) + 1\n",
    "    \n",
    "    data = []\n",
    "    for train_func_sigma in func_sigma_list:\n",
    "        for train_func_max in func_max_list:\n",
    "            for gp_noise in gp_noise_list:\n",
    "                for rbf_alpha in rbf_alpha_list:\n",
    "                    for rbf_beta in rbf_beta_list:\n",
    "                        \n",
    "                        train_func = TrueFunc(train_func_sigma, train_func_max).peak_one\n",
    "                        kernel = RBF(rbf_beta, rbf_alpha)\n",
    "                        model = GP(GP_ME, gp_noise, kernel)\n",
    "                        \n",
    "                        np.random.seed(seed)\n",
    "                        bandit = Bandit(n_play, n_sample)\n",
    "                        train, reward = bandit.gp_ts(train_func, model)\n",
    "\n",
    "                        data.append([train_func_sigma, train_func_max, gp_noise, rbf_alpha, rbf_beta, sum(reward)])                     \n",
    "                        column=['f_sigma', 'f_max', 'noise', 'alpha','beta','reward']\n",
    "                        df = pd.DataFrame(data, columns=column)\n",
    "                        csv_name = \"gp_ts_seed_\"+ str(seed) + \".csv\"\n",
    "                        df.to_csv(str(dir_name) + str(csv_name))\n",
    "                        \n",
    "    print(f'finished seed is {seed}')"
   ]
  },
  {
   "cell_type": "code",
   "execution_count": 29,
   "metadata": {
    "tags": []
   },
   "outputs": [
    {
     "name": "stdout",
     "output_type": "stream",
     "text": [
      "finished seed is 1\n"
     ]
    }
   ],
   "source": [
    "n = 1\n",
    "for _ in range(n):\n",
    "    play_bandit_gp_ts()   "
   ]
  },
  {
   "cell_type": "code",
   "execution_count": null,
   "metadata": {},
   "outputs": [],
   "source": []
  }
 ],
 "metadata": {
  "kernelspec": {
   "display_name": "Python 3 (ipykernel)",
   "language": "python",
   "name": "python3"
  },
  "language_info": {
   "codemirror_mode": {
    "name": "ipython",
    "version": 3
   },
   "file_extension": ".py",
   "mimetype": "text/x-python",
   "name": "python",
   "nbconvert_exporter": "python",
   "pygments_lexer": "ipython3",
   "version": "3.9.16"
  }
 },
 "nbformat": 4,
 "nbformat_minor": 4
}
