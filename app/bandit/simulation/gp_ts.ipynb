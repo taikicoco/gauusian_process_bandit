{
 "cells": [
  {
   "cell_type": "code",
   "execution_count": 38,
   "metadata": {
    "tags": []
   },
   "outputs": [
    {
     "name": "stdout",
     "output_type": "stream",
     "text": [
      "The autoreload extension is already loaded. To reload it, use:\n",
      "  %reload_ext autoreload\n"
     ]
    }
   ],
   "source": [
    "%load_ext autoreload\n",
    "%autoreload 2"
   ]
  },
  {
   "cell_type": "code",
   "execution_count": 39,
   "metadata": {
    "tags": []
   },
   "outputs": [],
   "source": [
    "import os\n",
    "import random\n",
    "import numpy as np\n",
    "import matplotlib.pyplot as plt\n",
    "import scipy.stats as st\n",
    "import pandas as pd"
   ]
  },
  {
   "cell_type": "code",
   "execution_count": 40,
   "metadata": {
    "tags": []
   },
   "outputs": [],
   "source": [
    "import sys\n",
    "sys.path.append('./models') \n",
    "from gaussian import GP\n",
    "from gaussian import RBF\n",
    "from bandit import Bandit\n",
    "\n",
    "sys.path.append('./train_data') \n",
    "from train_func import TrueFunc"
   ]
  },
  {
   "cell_type": "code",
   "execution_count": 41,
   "metadata": {
    "tags": []
   },
   "outputs": [],
   "source": [
    "GP_ME = 0.5\n",
    "n_play = 300\n",
    "n_sample = 100\n",
    "\n",
    "func_sigma_list = [0.1, 0.3]  #[i/10 for i in range(1, 4,1)] #[0.1, 0.2, 0.3]\n",
    "func_max_list   = [0.2, 0.6] #[i/10 for i in range(2, 8,2)] #[0.2, 0.4, 0.6]\n",
    "\n",
    "gp_noise_list   = [i/100 for i in range(5, 35, 5)] #[0.05, 0.1, 0.15, 0.2, 0.25, 0.3]\n",
    "rbf_alpha_list  = [i/100 for i in range(5, 35, 5)]\n",
    "rbf_beta_list   = [i/100 for i in range(5, 35, 5)] "
   ]
  },
  {
   "cell_type": "code",
   "execution_count": 42,
   "metadata": {
    "tags": []
   },
   "outputs": [
    {
     "name": "stdout",
     "output_type": "stream",
     "text": [
      "864\n"
     ]
    }
   ],
   "source": [
    "print(len(func_max_list)*len(func_sigma_list)*len(rbf_beta_list)**3)"
   ]
  },
  {
   "cell_type": "code",
   "execution_count": 43,
   "metadata": {
    "tags": []
   },
   "outputs": [],
   "source": [
    "def get_max_seed_ts():\n",
    "    try:\n",
    "        d = pd.read_csv('../results/csv/gp_ts/gp_ts.csv')\n",
    "        max_seed = d['seed'].tail(1).values[0]\n",
    "        return  max_seed\n",
    "    except FileNotFoundError:\n",
    "        return 0"
   ]
  },
  {
   "cell_type": "code",
   "execution_count": 44,
   "metadata": {
    "tags": []
   },
   "outputs": [],
   "source": [
    "def play_bandit_gp_ts():\n",
    "    \n",
    "    dir_path = '../results/csv/gp_ts/'\n",
    "    column   =['f_sigma', 'f_max', 'noise', 'alpha','beta','seed', 'play_time', 'select_arm', 'reward', ]\n",
    "    column2  =['f_sigma', 'f_max', 'noise', 'alpha','beta', 'total_reward', 'seed' ]\n",
    "    \n",
    "    data  = []\n",
    "    data2 = []\n",
    "    seed     = get_max_seed_ts() + 1\n",
    "    \n",
    "    _df = pd.read_csv('../results/csv/gp_ts/gp_ts.csv')\n",
    "    _df2 = pd.read_csv('../results/csv/gp_ts/gp_ts_2.csv')\n",
    "    \n",
    "    for train_func_sigma in func_sigma_list:\n",
    "        for train_func_max in func_max_list:\n",
    "            for gp_noise in gp_noise_list:\n",
    "                for rbf_alpha in rbf_alpha_list:\n",
    "                    for rbf_beta in rbf_beta_list:\n",
    "                        train_func = TrueFunc(train_func_sigma, train_func_max).peak_one\n",
    "                        kernel = RBF(rbf_beta, rbf_alpha)\n",
    "                        model = GP(GP_ME, gp_noise, kernel)\n",
    "\n",
    "                        t_r = 0\n",
    "                        np.random.seed(seed)\n",
    "                        bandit = Bandit(n_play, n_sample)\n",
    "\n",
    "                        for play_time in range(n_play):\n",
    "                            train, reward = bandit.gp_ts_e(train_func, model)\n",
    "                            t_r += reward\n",
    "                            data.append([train_func_sigma, train_func_max, gp_noise, rbf_alpha, rbf_beta, seed, play_time, train, reward])\n",
    "                        data2.append([train_func_sigma, train_func_max, gp_noise, rbf_alpha, rbf_beta, t_r, seed])\n",
    "                        \n",
    "                            \n",
    "    df = pd.DataFrame(data, columns=column)\n",
    "    df2 = pd.DataFrame(data2, columns=column2)\n",
    "    \n",
    "    df = pd.concat([_df, df], ignore_index=True)\n",
    "    df2 = pd.concat([_df2, df2], ignore_index=True)\n",
    "    \n",
    "    csv_name = \"gp_ts.csv\"\n",
    "    csv_name2 = \"gp_ts_2.csv\"\n",
    "    \n",
    "    df.to_csv(str(dir_path) + str(csv_name), index=False)\n",
    "    df2.to_csv(str(dir_path) + str(csv_name2), index=False)\n",
    "\n",
    "    print(f'finished seed is {seed}')"
   ]
  },
  {
   "cell_type": "code",
   "execution_count": 46,
   "metadata": {
    "tags": []
   },
   "outputs": [
    {
     "name": "stdout",
     "output_type": "stream",
     "text": [
      "finished seed is 26\n",
      "finished seed is 27\n"
     ]
    }
   ],
   "source": [
    "n = 2\n",
    "for _ in range(n):\n",
    "    play_bandit_gp_ts()"
   ]
  },
  {
   "cell_type": "code",
   "execution_count": null,
   "metadata": {},
   "outputs": [],
   "source": []
  }
 ],
 "metadata": {
  "kernelspec": {
   "display_name": "Python 3 (ipykernel)",
   "language": "python",
   "name": "python3"
  },
  "language_info": {
   "codemirror_mode": {
    "name": "ipython",
    "version": 3
   },
   "file_extension": ".py",
   "mimetype": "text/x-python",
   "name": "python",
   "nbconvert_exporter": "python",
   "pygments_lexer": "ipython3",
   "version": "3.9.16"
  }
 },
 "nbformat": 4,
 "nbformat_minor": 4
}
